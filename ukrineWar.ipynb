{
 "cells": [
  {
   "cell_type": "code",
   "execution_count": 1,
   "metadata": {},
   "outputs": [
    {
     "name": "stdout",
     "output_type": "stream",
     "text": [
      "Collecting git+https://github.com/JustAnotherArchivist/snscrape.git\n",
      "  Cloning https://github.com/JustAnotherArchivist/snscrape.git to c:\\users\\josephcyh\\appdata\\local\\temp\\pip-req-build-y1tx4pld\n",
      "  Resolved https://github.com/JustAnotherArchivist/snscrape.git to commit db4824e39715f7b352a224615adcb8eb1840f417\n",
      "  Installing build dependencies: started\n",
      "  Installing build dependencies: finished with status 'done'\n",
      "  Getting requirements to build wheel: started\n",
      "  Getting requirements to build wheel: finished with status 'done'\n",
      "  Installing backend dependencies: started\n",
      "  Installing backend dependencies: finished with status 'done'\n",
      "  Preparing metadata (pyproject.toml): started\n",
      "  Preparing metadata (pyproject.toml): finished with status 'done'\n",
      "Requirement already satisfied: requests[socks] in c:\\users\\josephcyh\\anaconda3\\lib\\site-packages (from snscrape==0.6.2.20230321.dev51+gdb4824e) (2.28.1)\n",
      "Requirement already satisfied: beautifulsoup4 in c:\\users\\josephcyh\\anaconda3\\lib\\site-packages (from snscrape==0.6.2.20230321.dev51+gdb4824e) (4.11.1)\n",
      "Requirement already satisfied: filelock in c:\\users\\josephcyh\\anaconda3\\lib\\site-packages (from snscrape==0.6.2.20230321.dev51+gdb4824e) (3.9.0)\n",
      "Requirement already satisfied: lxml in c:\\users\\josephcyh\\anaconda3\\lib\\site-packages (from snscrape==0.6.2.20230321.dev51+gdb4824e) (4.9.1)\n",
      "Requirement already satisfied: soupsieve>1.2 in c:\\users\\josephcyh\\anaconda3\\lib\\site-packages (from beautifulsoup4->snscrape==0.6.2.20230321.dev51+gdb4824e) (2.3.2.post1)\n",
      "Requirement already satisfied: certifi>=2017.4.17 in c:\\users\\josephcyh\\anaconda3\\lib\\site-packages (from requests[socks]->snscrape==0.6.2.20230321.dev51+gdb4824e) (2022.12.7)\n",
      "Requirement already satisfied: charset-normalizer<3,>=2 in c:\\users\\josephcyh\\anaconda3\\lib\\site-packages (from requests[socks]->snscrape==0.6.2.20230321.dev51+gdb4824e) (2.0.4)\n",
      "Requirement already satisfied: urllib3<1.27,>=1.21.1 in c:\\users\\josephcyh\\anaconda3\\lib\\site-packages (from requests[socks]->snscrape==0.6.2.20230321.dev51+gdb4824e) (1.26.14)\n",
      "Requirement already satisfied: idna<4,>=2.5 in c:\\users\\josephcyh\\anaconda3\\lib\\site-packages (from requests[socks]->snscrape==0.6.2.20230321.dev51+gdb4824e) (3.4)\n",
      "Requirement already satisfied: PySocks!=1.5.7,>=1.5.6 in c:\\users\\josephcyh\\anaconda3\\lib\\site-packages (from requests[socks]->snscrape==0.6.2.20230321.dev51+gdb4824e) (1.7.1)\n"
     ]
    },
    {
     "name": "stderr",
     "output_type": "stream",
     "text": [
      "  Running command git clone --filter=blob:none --quiet https://github.com/JustAnotherArchivist/snscrape.git 'C:\\Users\\josephcyh\\AppData\\Local\\Temp\\pip-req-build-y1tx4pld'\n"
     ]
    }
   ],
   "source": [
    "!pip3 install --upgrade git+https://github.com/JustAnotherArchivist/snscrape.git"
   ]
  },
  {
   "cell_type": "code",
   "execution_count": 7,
   "metadata": {},
   "outputs": [],
   "source": [
    "import snscrape.modules.twitter as sntwitter\n",
    "import pandas as pd"
   ]
  },
  {
   "cell_type": "code",
   "execution_count": 8,
   "metadata": {},
   "outputs": [],
   "source": [
    "query = \"UkraineWar\"\n",
    "tweet_list = []  #데이터 프레임을 만들기 위한 빈 리스트 지정\n",
    "limit = 1000 #트위터글을 1000개까지만 가져오도록 설정"
   ]
  },
  {
   "cell_type": "code",
   "execution_count": 9,
   "metadata": {},
   "outputs": [
    {
     "name": "stderr",
     "output_type": "stream",
     "text": [
      "C:\\Users\\josephcyh\\AppData\\Local\\Temp\\ipykernel_17288\\2565575401.py:6: DeprecatedFeatureWarning: content is deprecated, use rawContent instead\n",
      "  tweet_list.append([tweet.date, tweet.user.username, tweet.user.displayname, tweet.content, tweet.url])\n",
      "Could not translate t.co card URL on tweet 1671955397731844096\n",
      "Unavailable user in card on tweet 1671946831209590784\n",
      "User 14204245 not found in user refs in card on tweet 1671946831209590784\n",
      "Unavailable user in card on tweet 1671918199909105670\n",
      "Unavailable user in card on tweet 1671918199909105670\n",
      "User 1543596330362322945 not found in user refs in card on tweet 1671918199909105670\n",
      "User 1543596330362322945 not found in user refs in card on tweet 1671918199909105670\n"
     ]
    }
   ],
   "source": [
    "for tweet in sntwitter.TwitterSearchScraper(query).get_items(): \n",
    "#query 부분에 검색어가 들어감\n",
    "    if len(tweet_list) == limit: #트위터 글이 100개 이상인 경우 트위터 글을 더 이상 가져오지 않음\n",
    "    \tbreak\n",
    "    else:\n",
    "         tweet_list.append([tweet.date, tweet.user.username, tweet.user.displayname, tweet.content, tweet.url])\n",
    "         #트윗 날짜, 유저 아이디, 유저 닉네임, 트윗 글, 트윗 주소를 가져옴"
   ]
  },
  {
   "cell_type": "code",
   "execution_count": 10,
   "metadata": {},
   "outputs": [
    {
     "name": "stdout",
     "output_type": "stream",
     "text": [
      "                         Date             User  \\\n",
      "0   2023-06-22 19:09:07+00:00  BilboBagginsBut   \n",
      "1   2023-06-22 19:09:06+00:00        jungewelt   \n",
      "2   2023-06-22 19:09:04+00:00       JamesH1834   \n",
      "3   2023-06-22 19:08:17+00:00          alt_Lok   \n",
      "4   2023-06-22 19:08:05+00:00     BungeeWedgie   \n",
      "..                        ...              ...   \n",
      "995 2023-06-22 13:29:34+00:00         DERMOTRE   \n",
      "996 2023-06-22 13:28:38+00:00     RussComments   \n",
      "997 2023-06-22 13:28:08+00:00         d_le_nen   \n",
      "998 2023-06-22 13:27:46+00:00  shashan96901247   \n",
      "999 2023-06-22 13:27:44+00:00      natty4bumpo   \n",
      "\n",
      "                                  Nickname  \\\n",
      "0                                    David   \n",
      "1                               junge Welt   \n",
      "2                            James Hammett   \n",
      "3                                  not_Lok   \n",
      "4                            Alex Bukovsky   \n",
      "..                                     ...   \n",
      "995                                    DRE   \n",
      "996                           RussComments   \n",
      "997                          Dominik Lenné   \n",
      "998                         अच्छे कुमार ↙️   \n",
      "999  🏳️‍🌈 Chuck Hamilton (he/him/his) 🏴‍☠️   \n",
      "\n",
      "                                                 Tweet  \\\n",
      "0    Russia loses control of territory south of Bak...   \n",
      "1    Offenbar aufgrund hoher Verluste verschärft di...   \n",
      "2    BlackRock “gatekeeper” Serge Varlay says Ukrai...   \n",
      "3    Because unlike the two years of Covid and one ...   \n",
      "4    A #US -made M777 howitzer gets destroyed by #R...   \n",
      "..                                                 ...   \n",
      "995  @UKRinIRL I must take issue with you on your s...   \n",
      "996  This article should b: Why sane Americans call...   \n",
      "997  does anybody know whether it is possible to de...   \n",
      "998  @RishiSunak The conservatives should understan...   \n",
      "999  Ukraine missiles damage bridge to Crimea: Russ...   \n",
      "\n",
      "                                                   URL  \n",
      "0    https://twitter.com/BilboBagginsBut/status/167...  \n",
      "1    https://twitter.com/jungewelt/status/167195850...  \n",
      "2    https://twitter.com/JamesH1834/status/16719585...  \n",
      "3    https://twitter.com/alt_Lok/status/16719583046...  \n",
      "4    https://twitter.com/BungeeWedgie/status/167195...  \n",
      "..                                                 ...  \n",
      "995  https://twitter.com/DERMOTRE/status/1671873060...  \n",
      "996  https://twitter.com/RussComments/status/167187...  \n",
      "997  https://twitter.com/d_le_nen/status/1671872699...  \n",
      "998  https://twitter.com/shashan96901247/status/167...  \n",
      "999  https://twitter.com/natty4bumpo/status/1671872...  \n",
      "\n",
      "[1000 rows x 5 columns]\n"
     ]
    }
   ],
   "source": [
    "\n",
    "df = pd.DataFrame(tweet_list, columns = ['Date', 'User', 'Nickname', 'Tweet', 'URL'])\n",
    "#가져온 데이터에 맞게 컬럼명 지정\n",
    "\n",
    "print(df) #데이터 프레임이 잘 만들어졌는지 확인"
   ]
  },
  {
   "cell_type": "code",
   "execution_count": 11,
   "metadata": {},
   "outputs": [],
   "source": [
    "#csv로 저장\n",
    "df.to_csv('ukrineWar.csv', encoding='utf-8-sig') "
   ]
  }
 ],
 "metadata": {
  "kernelspec": {
   "display_name": "Python 3 (ipykernel)",
   "language": "python",
   "name": "python3"
  },
  "language_info": {
   "codemirror_mode": {
    "name": "ipython",
    "version": 3
   },
   "file_extension": ".py",
   "mimetype": "text/x-python",
   "name": "python",
   "nbconvert_exporter": "python",
   "pygments_lexer": "ipython3",
   "version": "3.10.9"
  },
  "orig_nbformat": 4
 },
 "nbformat": 4,
 "nbformat_minor": 2
}
